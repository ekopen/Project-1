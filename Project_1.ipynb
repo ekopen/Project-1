{
 "cells": [
  {
   "cell_type": "markdown",
   "id": "29b5b738",
   "metadata": {},
   "source": [
    "## AirBnb Data Project\n",
    "This project consists of the following:\n",
    "1) Downloading listing data\n",
    "2) Cleaning the raw data\n",
    "3) Inserting the cleaned data into a SQL database\n",
    "4) Exploring the data via SQL"
   ]
  },
  {
   "cell_type": "code",
   "execution_count": 1,
   "id": "af1ac261",
   "metadata": {},
   "outputs": [],
   "source": [
    "import pandas as pd"
   ]
  }
 ],
 "metadata": {
  "kernelspec": {
   "display_name": "base",
   "language": "python",
   "name": "python3"
  },
  "language_info": {
   "codemirror_mode": {
    "name": "ipython",
    "version": 3
   },
   "file_extension": ".py",
   "mimetype": "text/x-python",
   "name": "python",
   "nbconvert_exporter": "python",
   "pygments_lexer": "ipython3",
   "version": "3.12.4"
  }
 },
 "nbformat": 4,
 "nbformat_minor": 5
}
